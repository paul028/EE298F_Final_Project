{
 "cells": [
  {
   "cell_type": "code",
   "execution_count": 1,
   "metadata": {},
   "outputs": [],
   "source": [
    "import torch\n",
    "import torchvision\n",
    "import os\n",
    "from torch.autograd import Variable\n",
    "import torch.nn as nn\n",
    "import torch.nn.functional as F\n",
    "from shutil import copyfile\n",
    "from PIL import Image\n",
    "import math\n",
    "\n",
    "from torch.utils.data import Dataset, DataLoader\n",
    "from torchvision import transforms, utils\n",
    "import torch.optim as optim\n",
    "import torchvision.transforms as standard_transforms\n",
    "\n",
    "import numpy as np\n",
    "import glob\n",
    "import cv2\n",
    "\n",
    "from data_loader import Rescale\n",
    "from data_loader import RescaleT\n",
    "from data_loader import RandomCrop\n",
    "from data_loader import CenterCrop\n",
    "from data_loader import ToTensor\n",
    "from data_loader import ToTensorLab\n",
    "from data_loader import SalObjDataset\n",
    "\n",
    "import pytorch_ssim\n",
    "import pytorch_iou\n",
    "from utils import AverageMeter, VisdomLinePlotter\n",
    "from paperBASNET.metrics_mod import eval_mae, prec_recall\n",
    "\n",
    "import warnings\n",
    "warnings.filterwarnings('ignore')"
   ]
  },
  {
   "cell_type": "code",
   "execution_count": 51,
   "metadata": {},
   "outputs": [],
   "source": [
    "### CHANGE SETTINGS HERE, BECAUSE WE CANNOT LOAD IMAGES OF ALL 6 DATASETS!!!\n",
    "### Change dataset folder name\n",
    "dataset_name = 'ECSSD' ### 'DUTS-TE', 'PASCALS', 'DUTOMRON', 'HKU-IS', 'SOD', 'ECSSD'\n",
    "### Change to dataset directory\n",
    "data_dir = os.getenv(\"HOME\") + '/Documents/Courses/EE298-CV/finalproj/datasets/dataset_test/' + dataset_name + '/'\n",
    "### Place model.pth in \"evaluation_models\" folder\n",
    "model_name = 'struct_arch_w_flip_bestaverelaxed_201.pth'\n",
    "### If evaluating structural architecture, set this to false. Else set to true to evaluated original pretrained BASNET model\n",
    "is_orig_basnet = False"
   ]
  },
  {
   "cell_type": "code",
   "execution_count": 52,
   "metadata": {},
   "outputs": [],
   "source": [
    "if is_orig_basnet: from paperBASNET.model import BASNet\n",
    "else: from model import BASNet\n",
    "\n",
    "def train():\n",
    "    if os.name == 'nt':\n",
    "       data_dir =   'C:/Users/marky/Documents/Courses/saliency/datasets/dataset_test/' + dataset_name + '/'\n",
    "    else:\n",
    "        data_dir =   os.getenv(\"HOME\") + '/Documents/Courses/EE298-CV/finalproj/datasets/dataset_test/' + dataset_name + '/'\n",
    "    test_image_dir = 'images/'\n",
    "    test_label_dir = 'masks/'\n",
    "\n",
    "    image_ext = '.jpg'\n",
    "    label_ext = '.png'\n",
    "\n",
    "    # model_dir = \"./saved_models/basnet_bsi_aug/\"\n",
    "    model_dir = \"./evaluation_models/\"\n",
    "    resume_train = True ### Just testing\n",
    "    # resume_model_path = model_dir + \"bestMAE/\" + model_name\n",
    "    resume_model_path = model_dir + model_name\n",
    "    last_epoch = 1\n",
    "    epoch_num = 100000\n",
    "    batch_size_train = 8\n",
    "    batch_size_val = 1\n",
    "    train_num = 0\n",
    "    val_num = 0\n",
    "    enableInpaintAug = False\n",
    "    device = torch.device(\"cuda:1\" if torch.cuda.is_available() else \"cpu\")\n",
    "\n",
    "    test_img_name_list = glob.glob(data_dir + test_image_dir + '*' + image_ext)\n",
    "    print(\"data_dir + test_image_dir + '*' + image_ext: \", data_dir + test_image_dir + '*' + image_ext)\n",
    "\n",
    "    test_lbl_name_list = []\n",
    "    for img_path in test_img_name_list:\n",
    "        img_name = img_path.split(\"/\")[-1]\n",
    "        aaa = img_name.split(\".\")\n",
    "        bbb = aaa[0:-1]\n",
    "        imidx = bbb[0]\n",
    "        for i in range(1,len(bbb)):\n",
    "            imidx = imidx + \".\" + bbb[i]\n",
    "        test_lbl_name_list.append(data_dir + test_label_dir + imidx + label_ext)\n",
    "\n",
    "    print(\"---\")\n",
    "    print(\"test images: \", len(test_img_name_list))\n",
    "    print(\"test labels: \", len(test_lbl_name_list))\n",
    "    print(\"---\")\n",
    "\n",
    "    test_num = len(test_img_name_list)\n",
    "    salobj_dataset_test = SalObjDataset(\n",
    "        img_name_list=test_img_name_list,\n",
    "        lbl_name_list=test_lbl_name_list,\n",
    "        transform=transforms.Compose([\n",
    "            RescaleT(256),\n",
    "            RandomCrop(224),\n",
    "            ToTensorLab(flag=0)]),\n",
    "            category=\"test\",\n",
    "            enableInpaintAug=enableInpaintAug)\n",
    "    salobj_dataloader_test = DataLoader(salobj_dataset_test, batch_size=batch_size_val, shuffle=False, num_workers=1)\n",
    "\n",
    "    # ------- 3. define model --------\n",
    "    # define the net\n",
    "    net = BASNet(3, 1)\n",
    "    if resume_train:\n",
    "        # print(\"resume_model_path:\", resume_model_path)\n",
    "        checkpoint = torch.load(resume_model_path)\n",
    "        net.load_state_dict(checkpoint)\n",
    "    if torch.cuda.is_available():\n",
    "        net.to(device)\n",
    "\n",
    "    # ------- 4. define optimizer --------\n",
    "    print(\"---define optimizer...\")\n",
    "    optimizer = optim.Adam(net.parameters(), lr=0.001, betas=(0.9, 0.999), eps=1e-08, weight_decay=0)\n",
    "\n",
    "    best_ave_mae = 100000\n",
    "    best_max_fmeasure = 0\n",
    "    best_relaxed_fmeasure = 0\n",
    "    best_ave_maxf = 0\n",
    "    best_own_RelaxedFmeasure=0\n",
    "    average_mae = AverageMeter()\n",
    "    average_maxf = AverageMeter()\n",
    "    average_relaxedf = AverageMeter()\n",
    "    average_own_RelaxedFMeasure = AverageMeter()\n",
    "    average_prec = AverageMeter()\n",
    "    average_rec = AverageMeter()\n",
    "    print(\"---Evaluate model---\")\n",
    "    net.eval()\n",
    "    max_epoch_fmeasure = 0\n",
    "    for i, data in enumerate(salobj_dataloader_test):\n",
    "        inputs, labels = data['image'], data['label']\n",
    "        inputs = inputs.type(torch.FloatTensor)\n",
    "        labels = labels.type(torch.FloatTensor)\n",
    "        if torch.cuda.is_available(): inputs_v, labels_v = Variable(inputs.to(device), requires_grad=False), Variable(labels.to(device), requires_grad=False)\n",
    "        else: inputs_v, labels_v = Variable(inputs, requires_grad=False), Variable(labels, requires_grad=False)\n",
    "        if is_orig_basnet: d0, d1, d2, d3, d4, d5, d6, d7 = net(inputs_v)\n",
    "        else: d0, d1, d2, d3, d4, d5, d6, d7, d1_struct, d2_struct, d3_struct, d4_struct, d5_struct, d6_struct, d7_struct = net(inputs_v)\n",
    "        maeVal=eval_mae(d0.cpu().data,labels.cpu().data)\n",
    "        maeVal = eval_mae(d0.cpu().data, labels.cpu().data).item()\n",
    "        average_mae.update(maeVal, 1)\n",
    "        prec, recall = prec_recall(d0.cpu().data, labels.cpu().data)\n",
    "        average_prec.update(prec, 1)\n",
    "        average_rec.update(recall, 1)\n",
    "    beta2 = math.sqrt(0.3)  # for max F_beta metric\n",
    "    denom = (beta2 ** 2 * average_prec.avg + average_rec.avg)\n",
    "    if denom == 0: score = 0\n",
    "    else: score = ((1 + beta2 ** 2) * average_prec.avg * average_rec.avg) / denom\n",
    "    print(\"MAE score: \", average_mae.avg)\n",
    "    print(\"MaxF score: \", score)\n",
    "\n",
    "def run():\n",
    "    torch.multiprocessing.freeze_support()\n",
    "    print('loop')"
   ]
  },
  {
   "cell_type": "code",
   "execution_count": 5,
   "metadata": {},
   "outputs": [
    {
     "name": "stdout",
     "output_type": "stream",
     "text": [
      "loop\n",
      "data_dir + test_image_dir + '*' + image_ext:  /home/markytools/Documents/Courses/EE298-CV/finalproj/datasets/dataset_test/DUTS-TE/images/*.jpg\n",
      "---\n",
      "test images:  5019\n",
      "test labels:  5019\n",
      "---\n",
      "---define optimizer...\n",
      "---Evaluate model---\n",
      "MAE score:  0.05440299030874471\n",
      "MaxF score:  tensor(0.8506)\n"
     ]
    }
   ],
   "source": [
    "### THIS IS A RESULT CELL: DO NOT MOFIFY THIS!!! TO GET RESULTS, USE ANOTHER CELL AND MODIFY GLOBAL SETTINGS. JUST COPY THE CODE BELOW...\n",
    "### BASNET original - DUTS-TE\n",
    "if __name__ == '__main__':\n",
    "    run()\n",
    "    train()"
   ]
  },
  {
   "cell_type": "code",
   "execution_count": 9,
   "metadata": {},
   "outputs": [
    {
     "name": "stdout",
     "output_type": "stream",
     "text": [
      "loop\n",
      "data_dir + test_image_dir + '*' + image_ext:  /home/markytools/Documents/Courses/EE298-CV/finalproj/datasets/dataset_test/PASCALS/images/*.jpg\n",
      "---\n",
      "test images:  850\n",
      "test labels:  850\n",
      "---\n",
      "---define optimizer...\n",
      "---Evaluate model---\n",
      "MAE score:  0.08531180506867873\n",
      "MaxF score:  tensor(0.8468)\n"
     ]
    }
   ],
   "source": [
    "### THIS IS A RESULT CELL: DO NOT MOFIFY THIS!!! TO GET RESULTS, USE ANOTHER CELL AND MODIFY GLOBAL SETTINGS. JUST COPY THE CODE BELOW...\n",
    "### BASNET original - PASCALS\n",
    "if __name__ == '__main__':\n",
    "    run()\n",
    "    train()"
   ]
  },
  {
   "cell_type": "code",
   "execution_count": 13,
   "metadata": {},
   "outputs": [
    {
     "name": "stdout",
     "output_type": "stream",
     "text": [
      "loop\n",
      "data_dir + test_image_dir + '*' + image_ext:  /home/markytools/Documents/Courses/EE298-CV/finalproj/datasets/dataset_test/DUTOMRON/images/*.jpg\n",
      "---\n",
      "test images:  5166\n",
      "test labels:  5166\n",
      "---\n",
      "---define optimizer...\n",
      "---Evaluate model---\n",
      "MAE score:  0.0678968143558747\n",
      "MaxF score:  tensor(0.7898)\n"
     ]
    }
   ],
   "source": [
    "### THIS IS A RESULT CELL: DO NOT MOFIFY THIS!!! TO GET RESULTS, USE ANOTHER CELL AND MODIFY GLOBAL SETTINGS. JUST COPY THE CODE BELOW...\n",
    "### BASNET original - DUTOMRON\n",
    "if __name__ == '__main__':\n",
    "    run()\n",
    "    train()"
   ]
  },
  {
   "cell_type": "code",
   "execution_count": 17,
   "metadata": {},
   "outputs": [
    {
     "name": "stdout",
     "output_type": "stream",
     "text": [
      "loop\n",
      "data_dir + test_image_dir + '*' + image_ext:  /home/markytools/Documents/Courses/EE298-CV/finalproj/datasets/dataset_test/HKU-IS/images/*.jpg\n",
      "---\n",
      "test images:  1447\n",
      "test labels:  1447\n",
      "---\n",
      "---define optimizer...\n",
      "---Evaluate model---\n",
      "MAE score:  0.04243251562905199\n",
      "MaxF score:  tensor(0.9167)\n"
     ]
    }
   ],
   "source": [
    "### THIS IS A RESULT CELL: DO NOT MOFIFY THIS!!! TO GET RESULTS, USE ANOTHER CELL AND MODIFY GLOBAL SETTINGS. JUST COPY THE CODE BELOW...\n",
    "### BASNET original - HKU-IS\n",
    "if __name__ == '__main__':\n",
    "    run()\n",
    "    train()"
   ]
  },
  {
   "cell_type": "code",
   "execution_count": 21,
   "metadata": {},
   "outputs": [
    {
     "name": "stdout",
     "output_type": "stream",
     "text": [
      "loop\n",
      "data_dir + test_image_dir + '*' + image_ext:  /home/markytools/Documents/Courses/EE298-CV/finalproj/datasets/dataset_test/SOD/images/*.jpg\n",
      "---\n",
      "test images:  300\n",
      "test labels:  300\n",
      "---\n",
      "---define optimizer...\n",
      "---Evaluate model---\n",
      "MAE score:  0.12773287756756568\n",
      "MaxF score:  tensor(0.8408)\n"
     ]
    }
   ],
   "source": [
    "### THIS IS A RESULT CELL: DO NOT MOFIFY THIS!!! TO GET RESULTS, USE ANOTHER CELL AND MODIFY GLOBAL SETTINGS. JUST COPY THE CODE BELOW...\n",
    "### BASNET original - SOD\n",
    "if __name__ == '__main__':\n",
    "    run()\n",
    "    train()"
   ]
  },
  {
   "cell_type": "code",
   "execution_count": 29,
   "metadata": {},
   "outputs": [
    {
     "name": "stdout",
     "output_type": "stream",
     "text": [
      "loop\n",
      "data_dir + test_image_dir + '*' + image_ext:  /home/markytools/Documents/Courses/EE298-CV/finalproj/datasets/dataset_test/ECSSD/images/*.jpg\n",
      "---\n",
      "test images:  1000\n",
      "test labels:  1000\n",
      "---\n",
      "---define optimizer...\n",
      "---Evaluate model---\n",
      "MAE score:  0.04569519773882348\n",
      "MaxF score:  tensor(0.9347)\n"
     ]
    }
   ],
   "source": [
    "### THIS IS A RESULT CELL: DO NOT MOFIFY THIS!!! TO GET RESULTS, USE ANOTHER CELL AND MODIFY GLOBAL SETTINGS. JUST COPY THE CODE BELOW...\n",
    "### BASNET original - ECSSD\n",
    "if __name__ == '__main__':\n",
    "    run()\n",
    "    train()"
   ]
  },
  {
   "cell_type": "code",
   "execution_count": 36,
   "metadata": {},
   "outputs": [
    {
     "name": "stdout",
     "output_type": "stream",
     "text": [
      "loop\n",
      "data_dir + test_image_dir + '*' + image_ext:  /home/markytools/Documents/Courses/EE298-CV/finalproj/datasets/dataset_test/DUTS-TE/images/*.jpg\n",
      "---\n",
      "test images:  5019\n",
      "test labels:  5019\n",
      "---\n",
      "---define optimizer...\n",
      "---Evaluate model---\n",
      "MAE score:  0.06770727324743372\n",
      "MaxF score:  tensor(0.7932)\n"
     ]
    }
   ],
   "source": [
    "### THIS IS A RESULT CELL: DO NOT MOFIFY THIS!!! TO GET RESULTS, USE ANOTHER CELL AND MODIFY GLOBAL SETTINGS. JUST COPY THE CODE BELOW...\n",
    "### BASNET STRUCT ARCH W/ HFLIP - epoch201 (bestAveRelaxedF) - DUTS-TE\n",
    "if __name__ == '__main__':\n",
    "    run()\n",
    "    train()"
   ]
  },
  {
   "cell_type": "code",
   "execution_count": 40,
   "metadata": {},
   "outputs": [
    {
     "name": "stdout",
     "output_type": "stream",
     "text": [
      "loop\n",
      "data_dir + test_image_dir + '*' + image_ext:  /home/markytools/Documents/Courses/EE298-CV/finalproj/datasets/dataset_test/PASCALS/images/*.jpg\n",
      "---\n",
      "test images:  850\n",
      "test labels:  850\n",
      "---\n",
      "---define optimizer...\n",
      "---Evaluate model---\n",
      "MAE score:  0.09927098126890248\n",
      "MaxF score:  tensor(0.8096)\n"
     ]
    }
   ],
   "source": [
    "### THIS IS A RESULT CELL: DO NOT MOFIFY THIS!!! TO GET RESULTS, USE ANOTHER CELL AND MODIFY GLOBAL SETTINGS. JUST COPY THE CODE BELOW...\n",
    "### BASNET STRUCT ARCH W/ HFLIP - epoch201 (bestAveRelaxedF) - PASCALS\n",
    "if __name__ == '__main__':\n",
    "    run()\n",
    "    train()"
   ]
  },
  {
   "cell_type": "code",
   "execution_count": 43,
   "metadata": {},
   "outputs": [
    {
     "name": "stdout",
     "output_type": "stream",
     "text": [
      "loop\n",
      "data_dir + test_image_dir + '*' + image_ext:  /home/markytools/Documents/Courses/EE298-CV/finalproj/datasets/dataset_test/DUTOMRON/images/*.jpg\n",
      "---\n",
      "test images:  5166\n",
      "test labels:  5166\n",
      "---\n",
      "---define optimizer...\n",
      "---Evaluate model---\n",
      "MAE score:  0.08090073526730117\n",
      "MaxF score:  tensor(0.7462)\n"
     ]
    }
   ],
   "source": [
    "### THIS IS A RESULT CELL: DO NOT MOFIFY THIS!!! TO GET RESULTS, USE ANOTHER CELL AND MODIFY GLOBAL SETTINGS. JUST COPY THE CODE BELOW...\n",
    "### BASNET STRUCT ARCH W/ HFLIP - epoch201 (bestAveRelaxedF) - DUTOMRON\n",
    "if __name__ == '__main__':\n",
    "    run()\n",
    "    train()"
   ]
  },
  {
   "cell_type": "code",
   "execution_count": 47,
   "metadata": {},
   "outputs": [
    {
     "name": "stdout",
     "output_type": "stream",
     "text": [
      "loop\n",
      "data_dir + test_image_dir + '*' + image_ext:  /home/markytools/Documents/Courses/EE298-CV/finalproj/datasets/dataset_test/HKU-IS/images/*.jpg\n",
      "---\n",
      "test images:  1447\n",
      "test labels:  1447\n",
      "---\n",
      "---define optimizer...\n",
      "---Evaluate model---\n",
      "MAE score:  0.05027070829439483\n",
      "MaxF score:  tensor(0.8772)\n"
     ]
    }
   ],
   "source": [
    "### THIS IS A RESULT CELL: DO NOT MOFIFY THIS!!! TO GET RESULTS, USE ANOTHER CELL AND MODIFY GLOBAL SETTINGS. JUST COPY THE CODE BELOW...\n",
    "### BASNET STRUCT ARCH W/ HFLIP - epoch201 (bestAveRelaxedF) - HKU-IS\n",
    "if __name__ == '__main__':\n",
    "    run()\n",
    "    train()"
   ]
  },
  {
   "cell_type": "code",
   "execution_count": 50,
   "metadata": {},
   "outputs": [
    {
     "name": "stdout",
     "output_type": "stream",
     "text": [
      "loop\n",
      "data_dir + test_image_dir + '*' + image_ext:  /home/markytools/Documents/Courses/EE298-CV/finalproj/datasets/dataset_test/SOD/images/*.jpg\n",
      "---\n",
      "test images:  300\n",
      "test labels:  300\n",
      "---\n",
      "---define optimizer...\n",
      "---Evaluate model---\n",
      "MAE score:  0.1181943744358917\n",
      "MaxF score:  tensor(0.8336)\n"
     ]
    }
   ],
   "source": [
    "### THIS IS A RESULT CELL: DO NOT MOFIFY THIS!!! TO GET RESULTS, USE ANOTHER CELL AND MODIFY GLOBAL SETTINGS. JUST COPY THE CODE BELOW...\n",
    "### BASNET STRUCT ARCH W/ HFLIP - epoch201 (bestAveRelaxedF) - SOD\n",
    "if __name__ == '__main__':\n",
    "    run()\n",
    "    train()"
   ]
  },
  {
   "cell_type": "code",
   "execution_count": 53,
   "metadata": {},
   "outputs": [
    {
     "name": "stdout",
     "output_type": "stream",
     "text": [
      "loop\n",
      "data_dir + test_image_dir + '*' + image_ext:  /home/markytools/Documents/Courses/EE298-CV/finalproj/datasets/dataset_test/ECSSD/images/*.jpg\n",
      "---\n",
      "test images:  1000\n",
      "test labels:  1000\n",
      "---\n",
      "---define optimizer...\n",
      "---Evaluate model---\n",
      "MAE score:  0.05363992109440733\n",
      "MaxF score:  tensor(0.9043)\n"
     ]
    }
   ],
   "source": [
    "### THIS IS A RESULT CELL: DO NOT MOFIFY THIS!!! TO GET RESULTS, USE ANOTHER CELL AND MODIFY GLOBAL SETTINGS. JUST COPY THE CODE BELOW...\n",
    "### BASNET STRUCT ARCH W/ HFLIP - epoch201 (bestAveRelaxedF) - ECSSD\n",
    "if __name__ == '__main__':\n",
    "    run()\n",
    "    train()"
   ]
  },
  {
   "cell_type": "code",
   "execution_count": 58,
   "metadata": {},
   "outputs": [],
   "source": [
    "### Results for the rest are in \"EvaluationResults.png\""
   ]
  }
 ],
 "metadata": {
  "kernelspec": {
   "display_name": "Python 3",
   "language": "python",
   "name": "python3"
  },
  "language_info": {
   "codemirror_mode": {
    "name": "ipython",
    "version": 3
   },
   "file_extension": ".py",
   "mimetype": "text/x-python",
   "name": "python",
   "nbconvert_exporter": "python",
   "pygments_lexer": "ipython3",
   "version": "3.6.9"
  }
 },
 "nbformat": 4,
 "nbformat_minor": 2
}
